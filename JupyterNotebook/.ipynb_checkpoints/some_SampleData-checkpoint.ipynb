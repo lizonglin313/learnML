{
 "cells": [
  {
   "cell_type": "code",
   "execution_count": 3,
   "id": "21ae0084",
   "metadata": {},
   "outputs": [
    {
     "name": "stdout",
     "output_type": "stream",
     "text": [
      "X's type: <class 'numpy.ndarray'>\n",
      "X's shape: (26, 2)\n",
      "X: \n",
      "[[ 9.96346605  4.59676542]\n",
      " [11.0329545  -0.16816717]\n",
      " [11.54155807  5.21116083]\n",
      " [ 8.69289001  1.54322016]\n",
      " [ 8.1062269   4.28695977]\n",
      " [ 8.30988863  4.80623966]\n",
      " [11.93027136  4.64866327]\n",
      " [ 9.67284681 -0.20283165]\n",
      " [ 8.34810316  5.13415623]\n",
      " [ 8.67494727  4.47573059]\n",
      " [ 9.17748385  5.09283177]\n",
      " [10.24028948  2.45544401]\n",
      " [ 8.68937095  1.48709629]\n",
      " [ 8.92229526 -0.63993225]\n",
      " [ 9.49123469  4.33224792]\n",
      " [ 9.25694192  5.13284858]\n",
      " [ 7.99815287  4.8525051 ]\n",
      " [ 8.18378052  1.29564214]\n",
      " [ 8.7337095   2.49162431]\n",
      " [ 9.32298256  5.09840649]\n",
      " [10.06393839  0.99078055]\n",
      " [ 9.50048972 -0.26430318]\n",
      " [ 8.34468785  1.63824349]\n",
      " [ 9.50169345  1.93824624]\n",
      " [ 9.15072323  5.49832246]\n",
      " [11.563957    1.3389402 ]]\n",
      "y's type: <class 'numpy.ndarray'>\n",
      "y's shape: (26,)\n",
      "y: \n",
      "[1 0 1 0 0 1 1 0 1 1 1 1 0 0 1 1 1 0 0 1 0 0 0 0 1 0]\n"
     ]
    }
   ],
   "source": [
    "import mglearn\n",
    "X, y = mglearn.datasets.make_forge()\n",
    "print(\"X's type: {}\".format(type(X)))\n",
    "print(\"X's shape: {}\".format(X.shape))\n",
    "print(\"X: \\n{}\".format(X))\n",
    "print(\"y's type: {}\".format(type(y)))\n",
    "print(\"y's shape: {}\".format(y.shape))\n",
    "print(\"y: \\n{}\".format(y))\n",
    "# mglearn.discrete_scatter(X[:, 0], X[:,1], y)"
   ]
  },
  {
   "cell_type": "code",
   "execution_count": 8,
   "id": "29ae4f57",
   "metadata": {},
   "outputs": [
    {
     "name": "stdout",
     "output_type": "stream",
     "text": [
      "X.shape: (26, 2)\n"
     ]
    },
    {
     "data": {
      "image/png": "[encoded data removed]",
      "text/plain": [
       "<Figure size 432x288 with 1 Axes>"
      ]
     },
     "metadata": {
      "needs_background": "light"
     },
     "output_type": "display_data"
    }
   ],
   "source": [
    "%matplotlib inline\n",
    "import matplotlib.pyplot as plt\n",
    "mglearn.discrete_scatter(X[:,0], X[:,1], y)\n",
    "plt.legend([\"Class 0\", \"Class 1\"], loc=4)\n",
    "plt.xlabel(\"First feature\")\n",
    "plt.ylabel(\"Second feature\")\n",
    "print(\"X.shape: {}\".format(X.shape))"
   ]
  },
  {
   "cell_type": "code",
   "execution_count": 9,
   "id": "4a4ec859",
   "metadata": {},
   "outputs": [
    {
     "name": "stdout",
     "output_type": "stream",
     "text": [
      "X's type: <class 'numpy.ndarray'>\n",
      "X's shape: (40, 1)\n",
      "X: \n",
      "[[-0.75275929]\n",
      " [ 2.70428584]\n",
      " [ 1.39196365]\n",
      " [ 0.59195091]\n",
      " [-2.06388816]\n",
      " [-2.06403288]\n",
      " [-2.65149833]\n",
      " [ 2.19705687]\n",
      " [ 0.60669007]\n",
      " [ 1.24843547]\n",
      " [-2.87649303]\n",
      " [ 2.81945911]\n",
      " [ 1.99465584]\n",
      " [-1.72596534]\n",
      " [-1.9090502 ]\n",
      " [-1.89957294]\n",
      " [-1.17454654]\n",
      " [ 0.14853859]\n",
      " [-0.40832989]\n",
      " [-1.25262516]\n",
      " [ 0.67111737]\n",
      " [-2.16303684]\n",
      " [-1.24713211]\n",
      " [-0.80182894]\n",
      " [-0.26358009]\n",
      " [ 1.71105577]\n",
      " [-1.80195731]\n",
      " [ 0.08540663]\n",
      " [ 0.55448741]\n",
      " [-2.72129752]\n",
      " [ 0.64526911]\n",
      " [-1.97685526]\n",
      " [-2.60969044]\n",
      " [ 2.69331322]\n",
      " [ 2.7937922 ]\n",
      " [ 1.85038409]\n",
      " [-1.17231738]\n",
      " [-2.41396732]\n",
      " [ 1.10539816]\n",
      " [-0.35908504]]\n",
      "y's type: <class 'numpy.ndarray'>\n",
      "y's shape: (40,)\n",
      "y: \n",
      "[-0.44822073  0.33122576  0.77932073  0.03497884 -1.38773632 -2.47196233\n",
      " -1.52730805  1.49417157  1.00032374  0.22956153 -1.05979555  0.7789638\n",
      "  0.75418806 -1.51369739 -1.67303415 -0.90496988  0.08448544 -0.52734666\n",
      " -0.54114599 -0.3409073   0.21778193 -1.12469096  0.37299129  0.09756349\n",
      " -0.98618122  0.96695428 -1.13455014  0.69798591  0.43655826 -0.95652133\n",
      "  0.03527881 -2.08581717 -0.47411033  1.53708251  0.86893293  1.87664889\n",
      "  0.0945257  -1.41502356  0.25438895  0.09398858]\n"
     ]
    }
   ],
   "source": [
    "X, y = mglearn.datasets.make_wave(n_samples=40)\n",
    "print(\"X's type: {}\".format(type(X)))\n",
    "print(\"X's shape: {}\".format(X.shape))\n",
    "print(\"X: \\n{}\".format(X))\n",
    "print(\"y's type: {}\".format(type(y)))\n",
    "print(\"y's shape: {}\".format(y.shape))\n",
    "print(\"y: \\n{}\".format(y))"
   ]
  },
  {
   "cell_type": "code",
   "execution_count": 10,
   "id": "9625882b",
   "metadata": {},
   "outputs": [
    {
     "data": {
      "text/plain": [
       "Text(0, 0.5, 'Target')"
      ]
     },
     "execution_count": 10,
     "metadata": {},
     "output_type": "execute_result"
    },
    {
     "data": {
      "image/png": "[encoded data removed]",
      "text/plain": [
       "<Figure size 432x288 with 1 Axes>"
      ]
     },
     "metadata": {
      "needs_background": "light"
     },
     "output_type": "display_data"
    }
   ],
   "source": [
    "plt.plot(X, y, 'o')\n",
    "plt.ylim(-3, 3)\n",
    "plt.xlabel(\"Feature\")\n",
    "plt.ylabel(\"Target\")"
   ]
  },
  {
   "cell_type": "code",
   "execution_count": 18,
   "id": "72130b0e",
   "metadata": {},
   "outputs": [
    {
     "name": "stdout",
     "output_type": "stream",
     "text": [
      "cancer.keys(): \n",
      "dict_keys(['data', 'target', 'frame', 'target_names', 'DESCR', 'feature_names', 'filename'])\n"
     ]
    }
   ],
   "source": [
    "from sklearn.datasets import load_breast_cancer\n",
    "import numpy as np\n",
    "cancer = load_breast_cancer()\n",
    "print(\"cancer.keys(): \\n{}\".format(cancer.keys()))"
   ]
  },
  {
   "cell_type": "code",
   "execution_count": 19,
   "id": "fa57214b",
   "metadata": {},
   "outputs": [
    {
     "name": "stdout",
     "output_type": "stream",
     "text": [
      "Shape of cancer data: (569, 30)\n"
     ]
    }
   ],
   "source": [
    "print(\"Shape of cancer data: {}\".format(cancer.data.shape))"
   ]
  },
  {
   "cell_type": "code",
   "execution_count": 20,
   "id": "f05b6e9d",
   "metadata": {},
   "outputs": [
    {
     "name": "stdout",
     "output_type": "stream",
     "text": [
      "Sample counts per class: \n",
      "{'malignant': 212, 'benign': 357}\n"
     ]
    }
   ],
   "source": [
    "print(\"Sample counts per class: \\n{}\".format({\n",
    "            n: v for n, v in zip(cancer.target_names, np.bincount(cancer.target))\n",
    "        })) # 相关 zip 函数 和 字典推导的内容"
   ]
  },
  {
   "cell_type": "code",
   "execution_count": 21,
   "id": "ad7d865c",
   "metadata": {},
   "outputs": [
    {
     "name": "stdout",
     "output_type": "stream",
     "text": [
      "Data shape: (506, 13)\n"
     ]
    }
   ],
   "source": [
    "from sklearn.datasets import load_boston\n",
    "boston = load_boston()\n",
    "print(\"Data shape: {}\".format(boston.data.shape))"
   ]
  },
  {
   "cell_type": "code",
   "execution_count": 23,
   "id": "b70c9a0e",
   "metadata": {},
   "outputs": [
    {
     "name": "stdout",
     "output_type": "stream",
     "text": [
      "X.shape: (506, 104)\n"
     ]
    }
   ],
   "source": [
    "X, y = mglearn.datasets.load_extended_boston()\n",
    "print(\"X.shape: {}\".format(X.shape))"
   ]
  },
  {
   "cell_type": "code",
   "execution_count": 25,
   "id": "9e78699f",
   "metadata": {},
   "outputs": [
    {
     "name": "stderr",
     "output_type": "stream",
     "text": [
      "d:\\coding\\python39\\lib\\site-packages\\sklearn\\utils\\deprecation.py:86: FutureWarning: Function make_blobs is deprecated; Please import make_blobs directly from scikit-learn\n",
      "  warnings.warn(msg, category=FutureWarning)\n"
     ]
    },
    {
     "data": {
      "image/png": "[encoded data removed]",
      "text/plain": [
       "<Figure size 432x288 with 1 Axes>"
      ]
     },
     "metadata": {
      "needs_background": "light"
     },
     "output_type": "display_data"
    }
   ],
   "source": [
    "# kNN\n",
    "mglearn.plots.plot_knn_classification(n_neighbors=1)"
   ]
  },
  {
   "cell_type": "code",
   "execution_count": 26,
   "id": "560998a2",
   "metadata": {},
   "outputs": [
    {
     "name": "stderr",
     "output_type": "stream",
     "text": [
      "d:\\coding\\python39\\lib\\site-packages\\sklearn\\utils\\deprecation.py:86: FutureWarning: Function make_blobs is deprecated; Please import make_blobs directly from scikit-learn\n",
      "  warnings.warn(msg, category=FutureWarning)\n"
     ]
    },
    {
     "data": {
      "image/png": "[encoded data removed]",
      "text/plain": [
       "<Figure size 432x288 with 1 Axes>"
      ]
     },
     "metadata": {
      "needs_background": "light"
     },
     "output_type": "display_data"
    }
   ],
   "source": [
    "mglearn.plots.plot_knn_classification(n_neighbors=3)"
   ]
  },
  {
   "cell_type": "code",
   "execution_count": 27,
   "id": "d42fff48",
   "metadata": {},
   "outputs": [
    {
     "name": "stderr",
     "output_type": "stream",
     "text": [
      "d:\\coding\\python39\\lib\\site-packages\\sklearn\\utils\\deprecation.py:86: FutureWarning: Function make_blobs is deprecated; Please import make_blobs directly from scikit-learn\n",
      "  warnings.warn(msg, category=FutureWarning)\n"
     ]
    }
   ],
   "source": [
    "# 使用 scikit-learn 应用 k近邻\n",
    "from sklearn.model_selection import train_test_split\n",
    "X, y = mglearn.datasets.make_forge()\n",
    "X_train, X_test, y_train, y_test = train_test_split(X, y, random_state=0)"
   ]
  },
  {
   "cell_type": "code",
   "execution_count": 28,
   "id": "ef5d2dd9",
   "metadata": {},
   "outputs": [],
   "source": [
    "from sklearn.neighbors import KNeighborsClassifier\n",
    "clf = KNeighborsClassifier(n_neighbors=3)"
   ]
  },
  {
   "cell_type": "code",
   "execution_count": 29,
   "id": "63649952",
   "metadata": {},
   "outputs": [
    {
     "data": {
      "text/plain": [
       "KNeighborsClassifier(n_neighbors=3)"
      ]
     },
     "execution_count": 29,
     "metadata": {},
     "output_type": "execute_result"
    }
   ],
   "source": [
    "# 导入数据\n",
    "clf.fit(X_train, y_train)"
   ]
  },
  {
   "cell_type": "code",
   "execution_count": 30,
   "id": "c67f979e",
   "metadata": {},
   "outputs": [
    {
     "name": "stdout",
     "output_type": "stream",
     "text": [
      "Test set predictions: [1 0 1 0 1 0 0]\n"
     ]
    }
   ],
   "source": [
    "# 对测试集进行测试\n",
    "print(\"Test set predictions: {}\".format(clf.predict(X_test)))"
   ]
  },
  {
   "cell_type": "code",
   "execution_count": 31,
   "id": "053d217f",
   "metadata": {},
   "outputs": [
    {
     "name": "stdout",
     "output_type": "stream",
     "text": [
      "Test set accuracy: 0.86\n"
     ]
    }
   ],
   "source": [
    "# 评估模型\n",
    "print(\"Test set accuracy: {:.2f}\".format(clf.score(X_test, y_test)))"
   ]
  },
  {
   "cell_type": "code",
   "execution_count": 42,
   "id": "ec5f43f8",
   "metadata": {},
   "outputs": [
    {
     "name": "stdout",
     "output_type": "stream",
     "text": [
      "Figure(720x216)\n",
      "[<AxesSubplot:> <AxesSubplot:> <AxesSubplot:>]\n"
     ]
    },
    {
     "data": {
      "text/plain": [
       "<matplotlib.legend.Legend at 0x221a5084af0>"
      ]
     },
     "execution_count": 42,
     "metadata": {},
     "output_type": "execute_result"
    },
    {
     "data": {
      "image/png": "[encoded data removed]",
      "text/plain": [
       "<Figure size 720x216 with 3 Axes>"
      ]
     },
     "metadata": {},
     "output_type": "display_data"
    }
   ],
   "source": [
    "# 分别对 1，3，9个邻居情况的决策边界进行可视化\n",
    "fig, axes = plt.subplots(1, 3, figsize=(10,3))\n",
    "print(fig)\n",
    "print(axes)\n",
    "for n_neighbors, ax in zip([1,3,9], axes):\n",
    "    clf = KNeighborsClassifier(n_neighbors=n_neighbors).fit(X, y)\n",
    "    mglearn.plots.plot_2d_separator(clf, X, fill=True, eps=0.5, ax=ax, alpha=.4)\n",
    "    mglearn.discrete_scatter(X[:,0], X[:,1], y, ax=ax)\n",
    "    ax.set_title(\"{} negihbor(s)\".format(n_neighbors))\n",
    "    ax.set_xlabel(\"feature 0\")\n",
    "    ax.set_ylabel(\"feature 1\")\n",
    "axes[0].legend(loc=3)"
   ]
  },
  {
   "cell_type": "code",
   "execution_count": 45,
   "id": "ddaa8057",
   "metadata": {},
   "outputs": [
    {
     "name": "stdout",
     "output_type": "stream",
     "text": [
      "Amo 18\n",
      "Paul 19\n",
      "Jason 21\n",
      "Seven 22\n"
     ]
    }
   ],
   "source": [
    "for a,b in zip([\"Amo\", \"Paul\", \"Jason\", \"Seven\"], [18, 19, 21, 22]):\n",
    "    print(a,b)"
   ]
  },
  {
   "cell_type": "code",
   "execution_count": null,
   "id": "465877e7",
   "metadata": {},
   "outputs": [],
   "source": [
    "from sklearn.datasets import load_breast_cancer\n",
    "\n",
    "cancer = load_breast_cancer()\n",
    "X_train, X_test, y_train, y_test = train_test_split(\n",
    "    cancer.data, cancer.target, stratify=cancer.target, random_state=66)\n",
    "training_accuracy = []\n",
    "test_accuracy = []\n",
    "neighbors_settings = range(1, 11)\n"
   ]
  }
 ],
 "metadata": {
  "kernelspec": {
   "display_name": "Python 3 (ipykernel)",
   "language": "python",
   "name": "python3"
  },
  "language_info": {
   "codemirror_mode": {
    "name": "ipython",
    "version": 3
   },
   "file_extension": ".py",
   "mimetype": "text/x-python",
   "name": "python",
   "nbconvert_exporter": "python",
   "pygments_lexer": "ipython3",
   "version": "3.9.6"
  }
 },
 "nbformat": 4,
 "nbformat_minor": 5
}
